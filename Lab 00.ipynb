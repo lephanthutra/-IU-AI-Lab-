{
  "nbformat": 4,
  "nbformat_minor": 0,
  "metadata": {
    "colab": {
      "name": "Lab00_Le Thi Thu Tra.ipynb",
      "provenance": [],
      "collapsed_sections": []
    },
    "kernelspec": {
      "name": "python3",
      "display_name": "Python 3"
    },
    "language_info": {
      "name": "python"
    }
  },
  "cells": [
    {
      "cell_type": "markdown",
      "source": [
        "# Lab 00\n",
        "\n",
        "Student name: Le Thi Thu Tra\n",
        "\n",
        "Student ID: ITDSIU19058"
      ],
      "metadata": {
        "id": "FEC6wSHQy5Qy"
      }
    },
    {
      "cell_type": "markdown",
      "source": [
        "## Problem 1: \n",
        "\n",
        "Write a program to find all numbers that are divisible by 7 but not multiples of 5, within the range 2000 and 3200 (including 2000 and 3200). The result should be printed as astring on one line, separated by commas.\n"
      ],
      "metadata": {
        "id": "KfGL26BEzJ8A"
      }
    },
    {
      "cell_type": "code",
      "source": [
        "def findAllNumbers():\n",
        "  for num in range(2000, 3200):\n",
        "    if num % 7 == 0 and num % 5 != 0:\n",
        "      print(num, end = ', ')"
      ],
      "metadata": {
        "id": "wRQVzli9zFAe"
      },
      "execution_count": null,
      "outputs": []
    },
    {
      "cell_type": "code",
      "execution_count": null,
      "metadata": {
        "colab": {
          "base_uri": "https://localhost:8080/"
        },
        "id": "0bnfp_Q7yw7u",
        "outputId": "1e3e69ef-921c-4751-d1d0-ad62cb26129e"
      },
      "outputs": [
        {
          "output_type": "stream",
          "name": "stdout",
          "text": [
            "2002, 2009, 2016, 2023, 2037, 2044, 2051, 2058, 2072, 2079, 2086, 2093, 2107, 2114, 2121, 2128, 2142, 2149, 2156, 2163, 2177, 2184, 2191, 2198, 2212, 2219, 2226, 2233, 2247, 2254, 2261, 2268, 2282, 2289, 2296, 2303, 2317, 2324, 2331, 2338, 2352, 2359, 2366, 2373, 2387, 2394, 2401, 2408, 2422, 2429, 2436, 2443, 2457, 2464, 2471, 2478, 2492, 2499, 2506, 2513, 2527, 2534, 2541, 2548, 2562, 2569, 2576, 2583, 2597, 2604, 2611, 2618, 2632, 2639, 2646, 2653, 2667, 2674, 2681, 2688, 2702, 2709, 2716, 2723, 2737, 2744, 2751, 2758, 2772, 2779, 2786, 2793, 2807, 2814, 2821, 2828, 2842, 2849, 2856, 2863, 2877, 2884, 2891, 2898, 2912, 2919, 2926, 2933, 2947, 2954, 2961, 2968, 2982, 2989, 2996, 3003, 3017, 3024, 3031, 3038, 3052, 3059, 3066, 3073, 3087, 3094, 3101, 3108, 3122, 3129, 3136, 3143, 3157, 3164, 3171, 3178, 3192, 3199, None\n"
          ]
        }
      ],
      "source": [
        "result = findAllNumbers()\n",
        "print(result)"
      ]
    },
    {
      "cell_type": "markdown",
      "source": [
        "## Problem 2: \n",
        "Given a given integer n, write a program to create a dictionary containing (i, i*i) as integers from 1 to n (including 1 and n) and then print this dictionary. Example: Assuming number n is 8, the output will be: {1:1, 2:4, 3:9, 4:16, 5:25, 6:36, 7:49, 8:64}."
      ],
      "metadata": {
        "id": "Gwl1KS0e0wNk"
      }
    },
    {
      "cell_type": "code",
      "source": [
        "d = dict()\n",
        "n = int(input(\"Input an integer number: \"))\n",
        "\n",
        "def createDic(n):\n",
        "  for i in range(1,n+1):\n",
        "    d[i] = i*i\n",
        "  print(d)"
      ],
      "metadata": {
        "colab": {
          "base_uri": "https://localhost:8080/"
        },
        "id": "ishEf2rsz4mf",
        "outputId": "584098e9-0393-4201-be67-3713196e0623"
      },
      "execution_count": null,
      "outputs": [
        {
          "name": "stdout",
          "output_type": "stream",
          "text": [
            "Input an integer number: 8\n"
          ]
        }
      ]
    },
    {
      "cell_type": "code",
      "source": [
        "result = createDic(n)"
      ],
      "metadata": {
        "colab": {
          "base_uri": "https://localhost:8080/"
        },
        "id": "xM69S-5D18gr",
        "outputId": "e300815c-6b10-4b22-d1e2-e5a6a62c9a44"
      },
      "execution_count": null,
      "outputs": [
        {
          "output_type": "stream",
          "name": "stdout",
          "text": [
            "{1: 1, 2: 4, 3: 9, 4: 16, 5: 25, 6: 36, 7: 49, 8: 64}\n"
          ]
        }
      ]
    },
    {
      "cell_type": "markdown",
      "source": [
        "# Problem 3: \n",
        "Define a class with at least 2 methods:\n",
        "\n",
        "● getString: to get a user inputted string from the console.\n",
        "\n",
        "● printString: print the string entered to upper case.\n",
        "\n",
        "Write a simple function/program to test your class.\n",
        "Example: The input string is “hcmiu.edu.vn”, the output must be “HCMIU.EDU.VN”\n"
      ],
      "metadata": {
        "id": "okwpWRYz6444"
      }
    },
    {
      "cell_type": "markdown",
      "source": [
        ""
      ],
      "metadata": {
        "id": "QvPT9VzvVmOd"
      }
    },
    {
      "cell_type": "code",
      "source": [
        "class Problem3():\n",
        "\n",
        "  def __init__(self):\n",
        "        self.user_input = \"\"\n",
        "\n",
        "  def getString(self):\n",
        "    self.user_input = input('Input: ')\n",
        "  \n",
        "  def printString(self):\n",
        "    print(\"Output:\", self.user_input.upper())\n",
        "\n",
        "user_input = Problem3()\n",
        "user_input.getString()\n",
        "user_input.printString()"
      ],
      "metadata": {
        "colab": {
          "base_uri": "https://localhost:8080/"
        },
        "id": "ZUT-5co87Eay",
        "outputId": "d8de04a4-4533-440c-9379-feb56c60256b"
      },
      "execution_count": null,
      "outputs": [
        {
          "output_type": "stream",
          "name": "stdout",
          "text": [
            "Input: hcmiu.edu.vn\n",
            "Output: HCMIU.EDU.VN\n"
          ]
        }
      ]
    },
    {
      "cell_type": "markdown",
      "source": [
        "#Problem 4: \n",
        "\n",
        "Write a program that accepts a string of words entered by the user, separated by commas. Then print the words in alphabetical order, separated by commas. Assuming input is: without,hello,bag,world, the output will be: bag,hello,without,world.\n"
      ],
      "metadata": {
        "id": "gJg5-1nDBHmw"
      }
    },
    {
      "cell_type": "code",
      "source": [
        "def Problem4():\n",
        "  user_input = input('Input: ')\n",
        "  # split words and save them to a list\n",
        "  words_list = [word.lower() for word in user_input.split(',')]\n",
        "  words_list.sort()\n",
        "  print(\"Output: \")\n",
        "  for word in words_list:\n",
        "    print(word, sep = '.', end = ',')\n",
        "test = Problem4()"
      ],
      "metadata": {
        "colab": {
          "base_uri": "https://localhost:8080/"
        },
        "id": "G5JOxZ1IULrx",
        "outputId": "d826faf7-539d-4806-b373-a92fe7879ab3"
      },
      "execution_count": null,
      "outputs": [
        {
          "output_type": "stream",
          "name": "stdout",
          "text": [
            "Input: without,hello,bag,world\n",
            "Output: \n",
            "bag,hello,without,world,"
          ]
        }
      ]
    },
    {
      "cell_type": "markdown",
      "source": [
        "# Problem 5: \n",
        "\n",
        "Define a class named Shape and the following subclasses: Square, Circle. Square\n",
        "and Circle have an init function that takes a length argument. Both classes have an area function\n",
        "to print the area of the shape (the default area of Shape is 0)."
      ],
      "metadata": {
        "id": "BDHA-x1qJ8jd"
      }
    },
    {
      "cell_type": "code",
      "source": [
        "class Shape(object):\n",
        "  def __init__(self):\n",
        "    self.length = \"\"\n",
        "\n",
        "  def area(self):\n",
        "    return 0\n",
        "\n",
        "class Square(Shape):\n",
        "  def __init__(self,l):\n",
        "     Shape.__init__(self)\n",
        "     self.length = l\n",
        "  \n",
        "  def area(self):\n",
        "    #return self.length*self.length\n",
        "    aSquare = self.length*self.length\n",
        "    print(\"Square Area: \", aSquare)\n",
        "      \n",
        "class Circle(Shape):\n",
        "  def __init__(self, l):\n",
        "     Shape.__init__(self)\n",
        "     self.length = l\n",
        "  \n",
        "  def area(self):\n",
        "    #return float(self.length**2*3.14)\n",
        "    aCircle = float(self.length**2*3.14)\n",
        "    print(\"Circle Area: \", aCircle)\n",
        "\n",
        "Square(5).area()\n",
        "Circle(5).area()\n",
        "\n",
        "#print(Square(5).area())\n",
        "#print(Circle(5).area())"
      ],
      "metadata": {
        "colab": {
          "base_uri": "https://localhost:8080/"
        },
        "id": "KH7rjwy6J-5J",
        "outputId": "60c39658-ca97-410e-e0ad-015f96c8d0d3"
      },
      "execution_count": null,
      "outputs": [
        {
          "output_type": "stream",
          "name": "stdout",
          "text": [
            "Square Area:  25\n",
            "Circle Area:  78.5\n"
          ]
        }
      ]
    }
  ]
}